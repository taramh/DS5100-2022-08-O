{
 "cells": [
  {
   "cell_type": "markdown",
   "id": "cc652c28-f52c-484a-a747-af0f1fc44bb4",
   "metadata": {
    "jp-MarkdownHeadingCollapsed": true,
    "slideshow": {
     "slide_type": "slide"
    },
    "tags": []
   },
   "source": [
    "# Module 05 \n",
    "DS 5100 | Fall 2022"
   ]
  },
  {
   "cell_type": "markdown",
   "id": "2518f88a-72d1-43aa-a370-aa58c541d237",
   "metadata": {
    "jp-MarkdownHeadingCollapsed": true,
    "slideshow": {
     "slide_type": "slide"
    },
    "tags": []
   },
   "source": [
    "# Time"
   ]
  },
  {
   "cell_type": "markdown",
   "id": "125a5e38-6965-4210-8c46-00916b840917",
   "metadata": {
    "slideshow": {
     "slide_type": "slide"
    },
    "tags": []
   },
   "source": [
    "# Exercise 5.1\n",
    "\n",
    "Build a list containing the integers 1 to 100,000 where all odd numbers have negative sign. \n",
    "\n",
    "Write a loop to build the list, and time it using `time()`.\n",
    "\n",
    "Print out the result time delta."
   ]
  },
  {
   "cell_type": "code",
   "execution_count": 1,
   "id": "c1d5e2ea-7239-4a6c-aad1-4cd6c3cbce7e",
   "metadata": {
    "slideshow": {
     "slide_type": "subslide"
    },
    "tags": []
   },
   "outputs": [
    {
     "name": "stdout",
     "output_type": "stream",
     "text": [
      "runtime:  0.025332212448120117\n"
     ]
    }
   ],
   "source": [
    "import time \n",
    "\n",
    "t0 = time.time()\n",
    "vals = []\n",
    "for i in range(1, 100001):\n",
    "    if i % 2 == 1:\n",
    "        i *= -1\n",
    "    vals.append(i)\n",
    "print('runtime: ', time.time() - t0)"
   ]
  },
  {
   "cell_type": "markdown",
   "id": "1072b3ae-f976-49ea-9b97-8790500371bc",
   "metadata": {
    "slideshow": {
     "slide_type": "slide"
    },
    "tags": []
   },
   "source": [
    "# Exercise 5.2 \n",
    "\n",
    "Write a list comprehension to build the list, and time it using `time()`  \n",
    "\n",
    "Remember: While we put the `for loop` before `if statements`, it is different with `if else` statements.  \n",
    "`if else` statements precede a `for loop` in a list comprehension."
   ]
  },
  {
   "cell_type": "code",
   "execution_count": 2,
   "id": "3e35ebe4-5d61-4223-a85b-e7593b7a5033",
   "metadata": {
    "slideshow": {
     "slide_type": "subslide"
    },
    "tags": []
   },
   "outputs": [
    {
     "name": "stdout",
     "output_type": "stream",
     "text": [
      "runtime:  0.013946771621704102\n"
     ]
    }
   ],
   "source": [
    "t0 = time.time()\n",
    "vals = [i*-1 if i % 2 == 1 else i for i in range(1,100001)]\n",
    "print('runtime: ', time.time() - t0)"
   ]
  },
  {
   "cell_type": "code",
   "execution_count": 3,
   "id": "1045b126-e9a0-4c4c-9d86-b1b8bc8f86ed",
   "metadata": {
    "slideshow": {
     "slide_type": "-"
    },
    "tags": []
   },
   "outputs": [],
   "source": [
    "# vals"
   ]
  },
  {
   "cell_type": "markdown",
   "id": "a686a439-0a88-4e01-a37f-a09e9792b740",
   "metadata": {
    "slideshow": {
     "slide_type": "slide"
    }
   },
   "source": [
    "# NumPy"
   ]
  },
  {
   "cell_type": "code",
   "execution_count": 4,
   "id": "a31d5a75-fe88-4d61-8216-174de000495e",
   "metadata": {
    "slideshow": {
     "slide_type": "-"
    }
   },
   "outputs": [],
   "source": [
    "import numpy as np"
   ]
  },
  {
   "cell_type": "markdown",
   "id": "83631b93",
   "metadata": {
    "slideshow": {
     "slide_type": "slide"
    },
    "tags": []
   },
   "source": [
    "# Exercise 5.3\n",
    "\n",
    "Use NumPy to generate 10 random integers ranging from 1 to 6 inclusive.\n",
    "\n",
    "Save the results in a list and then print the list as a comma-delimitted string.\n",
    "\n",
    "Hint: Use NumPy's `random.randint()` function.\n",
    "\n",
    "Hint: `', '.join(my_list_like)`"
   ]
  },
  {
   "cell_type": "code",
   "execution_count": 62,
   "id": "2151d715",
   "metadata": {
    "slideshow": {
     "slide_type": "slide"
    },
    "tags": []
   },
   "outputs": [],
   "source": [
    "np.random.randint?"
   ]
  },
  {
   "cell_type": "code",
   "execution_count": 5,
   "id": "351aa80a-0525-4d9e-9cee-bdf512acd1c7",
   "metadata": {
    "slideshow": {
     "slide_type": "subslide"
    }
   },
   "outputs": [],
   "source": [
    "randos = np.random.randint(1, 7, 10)"
   ]
  },
  {
   "cell_type": "code",
   "execution_count": 6,
   "id": "456404e4-73c6-482e-8093-7c8a62ac5915",
   "metadata": {
    "slideshow": {
     "slide_type": "-"
    }
   },
   "outputs": [
    {
     "name": "stdout",
     "output_type": "stream",
     "text": [
      "1, 1, 1, 6, 2, 2, 1, 3, 6, 4\n"
     ]
    }
   ],
   "source": [
    "print(', '.join(randos.astype(str)))"
   ]
  },
  {
   "cell_type": "markdown",
   "id": "7461d0ed-5390-42c2-b472-fa9298a4a865",
   "metadata": {
    "slideshow": {
     "slide_type": "slide"
    }
   },
   "source": [
    "# Exercise 5.4\n",
    "\n",
    "Generate a single random integer with NumPy and print its type.\n",
    "\n",
    "Then generate $5$ random integers between $1$ and $21$ and print its type.\n",
    "\n",
    "What difference do you see?"
   ]
  },
  {
   "cell_type": "code",
   "execution_count": 69,
   "id": "ea4a43ea",
   "metadata": {
    "slideshow": {
     "slide_type": "subslide"
    }
   },
   "outputs": [],
   "source": [
    "r1 = np.random.randint(10)"
   ]
  },
  {
   "cell_type": "code",
   "execution_count": 8,
   "id": "79258eaa-17ae-4da1-9cf2-f5131245b3b1",
   "metadata": {
    "slideshow": {
     "slide_type": "-"
    }
   },
   "outputs": [
    {
     "data": {
      "text/plain": [
       "int"
      ]
     },
     "execution_count": 8,
     "metadata": {},
     "output_type": "execute_result"
    }
   ],
   "source": [
    "type(r1)"
   ]
  },
  {
   "cell_type": "code",
   "execution_count": 9,
   "id": "afc5c1a1-ffb6-4ecb-aff9-144b1c76118d",
   "metadata": {
    "slideshow": {
     "slide_type": "-"
    }
   },
   "outputs": [],
   "source": [
    "r2 = np.random.randint(1, 21, 5)"
   ]
  },
  {
   "cell_type": "code",
   "execution_count": 10,
   "id": "96716128-6be3-4610-9cd7-aeb25d3b5440",
   "metadata": {},
   "outputs": [
    {
     "data": {
      "text/plain": [
       "numpy.ndarray"
      ]
     },
     "execution_count": 10,
     "metadata": {},
     "output_type": "execute_result"
    }
   ],
   "source": [
    "type(r2)"
   ]
  },
  {
   "cell_type": "markdown",
   "id": "b2748abb",
   "metadata": {
    "slideshow": {
     "slide_type": "slide"
    }
   },
   "source": [
    "# Exercise 5.5\n",
    "\n",
    "Plot a histogram of the array for random integers you just created.\n",
    "\n",
    "Hint: Import Matplotlib's Histogram function as follows:\n",
    "\n",
    "```python\n",
    "from matplotlib.pyplot import hist\n",
    "```\n",
    "\n",
    "Then pass the array to `hist()`."
   ]
  },
  {
   "cell_type": "code",
   "execution_count": 11,
   "id": "a127ac5e-6610-470b-825a-660a4ccb7601",
   "metadata": {
    "slideshow": {
     "slide_type": "subslide"
    }
   },
   "outputs": [],
   "source": [
    "from matplotlib.pyplot import hist"
   ]
  },
  {
   "cell_type": "code",
   "execution_count": 71,
   "id": "ce1bc223-0b26-4859-a4c9-f01ca4d979b9",
   "metadata": {
    "slideshow": {
     "slide_type": "-"
    }
   },
   "outputs": [
    {
     "data": {
      "text/plain": [
       "(array([0., 0., 0., 0., 0., 2., 0., 0., 0., 0.]),\n",
       " array([4.5, 4.6, 4.7, 4.8, 4.9, 5. , 5.1, 5.2, 5.3, 5.4, 5.5]),\n",
       " <BarContainer object of 10 artists>)"
      ]
     },
     "execution_count": 71,
     "metadata": {},
     "output_type": "execute_result"
    },
    {
     "data": {
      "image/png": "[encoded data removed]",
      "text/plain": [
       "<Figure size 432x288 with 1 Axes>"
      ]
     },
     "metadata": {
      "needs_background": "light"
     },
     "output_type": "display_data"
    }
   ],
   "source": [
    "hist(r2)"
   ]
  },
  {
   "cell_type": "code",
   "execution_count": 72,
   "id": "be5d96cb-fd15-4c6e-adcb-b332a45d116f",
   "metadata": {
    "slideshow": {
     "slide_type": "subslide"
    }
   },
   "outputs": [
    {
     "data": {
      "image/png": "[encoded data removed]",
      "text/plain": [
       "<Figure size 432x288 with 1 Axes>"
      ]
     },
     "metadata": {
      "needs_background": "light"
     },
     "output_type": "display_data"
    }
   ],
   "source": [
    "hist(r2);"
   ]
  },
  {
   "cell_type": "markdown",
   "id": "aa7a5074-1100-48f6-9d03-30cf729f0bc4",
   "metadata": {
    "slideshow": {
     "slide_type": "slide"
    }
   },
   "source": [
    "# Exercise 5.6\n",
    "\n",
    " Generate and print a matrix (2D array) of random normals of shape $2 \\times 3$.\n",
    " \n",
    " Hint: `np.random.randn(m, n)` samples from the standard normal distribution and generates an `m` by `n` matrix. "
   ]
  },
  {
   "cell_type": "code",
   "execution_count": 14,
   "id": "96f60f26-90b7-407e-8595-78dcee0b925f",
   "metadata": {
    "slideshow": {
     "slide_type": "subslide"
    }
   },
   "outputs": [],
   "source": [
    "x = np.random.randn(2, 3)"
   ]
  },
  {
   "cell_type": "code",
   "execution_count": 15,
   "id": "588f6dd2-b615-434d-8d44-e4c0067ead80",
   "metadata": {
    "slideshow": {
     "slide_type": "-"
    }
   },
   "outputs": [
    {
     "data": {
      "text/plain": [
       "array([[1.25598942, 0.21461455, 0.61498622],\n",
       "       [0.45004182, 0.66617174, 1.1962845 ]])"
      ]
     },
     "execution_count": 15,
     "metadata": {},
     "output_type": "execute_result"
    }
   ],
   "source": [
    "x"
   ]
  },
  {
   "cell_type": "markdown",
   "id": "3061d632",
   "metadata": {
    "slideshow": {
     "slide_type": "slide"
    }
   },
   "source": [
    "# Exercise 5.7\n",
    "\n",
    "Multiply the matrix you just created by $2$.\n",
    "\n",
    "In linear algebra, this is called \"scaling\" the matrix."
   ]
  },
  {
   "cell_type": "code",
   "execution_count": 16,
   "id": "f81d699f-55e2-4fa8-9626-aecc13476c9b",
   "metadata": {
    "slideshow": {
     "slide_type": "subslide"
    }
   },
   "outputs": [
    {
     "data": {
      "text/plain": [
       "array([[2.51197884, 0.4292291 , 1.22997245],\n",
       "       [0.90008364, 1.33234348, 2.39256899]])"
      ]
     },
     "execution_count": 16,
     "metadata": {},
     "output_type": "execute_result"
    }
   ],
   "source": [
    "x * 2"
   ]
  },
  {
   "cell_type": "markdown",
   "id": "f942febb",
   "metadata": {
    "slideshow": {
     "slide_type": "slide"
    }
   },
   "source": [
    "# Exercise 5.8\n",
    "\n",
    "Now add the matrix to itself."
   ]
  },
  {
   "cell_type": "code",
   "execution_count": 17,
   "id": "9e3f8509-e751-4b80-983c-41da934c3853",
   "metadata": {
    "slideshow": {
     "slide_type": "subslide"
    }
   },
   "outputs": [
    {
     "data": {
      "text/plain": [
       "array([[2.51197884, 0.4292291 , 1.22997245],\n",
       "       [0.90008364, 1.33234348, 2.39256899]])"
      ]
     },
     "execution_count": 17,
     "metadata": {},
     "output_type": "execute_result"
    }
   ],
   "source": [
    "x + x"
   ]
  },
  {
   "cell_type": "markdown",
   "id": "1f5dcde6",
   "metadata": {
    "slideshow": {
     "slide_type": "slide"
    }
   },
   "source": [
    "# Exercise 5.9\n",
    "\n",
    "Now get a matrix of reciprocals. \n",
    "\n",
    "Note: this is *not* the same as a reciprocal of a matrix."
   ]
  },
  {
   "cell_type": "code",
   "execution_count": 18,
   "id": "93340b33-e5a7-4684-846a-b76e41d4809e",
   "metadata": {
    "slideshow": {
     "slide_type": "subslide"
    }
   },
   "outputs": [
    {
     "data": {
      "text/plain": [
       "array([[0.79618505, 4.65951634, 1.62605268],\n",
       "       [2.22201572, 1.50111441, 0.83592156]])"
      ]
     },
     "execution_count": 18,
     "metadata": {},
     "output_type": "execute_result"
    }
   ],
   "source": [
    "1 / x"
   ]
  },
  {
   "cell_type": "code",
   "execution_count": 74,
   "id": "ae1b1d8b-5dc7-4e42-966a-d8582fe56576",
   "metadata": {},
   "outputs": [],
   "source": [
    "# np.linalg.inv(x) # This is used to get the reciprocal, or inverse, of a matrix"
   ]
  },
  {
   "cell_type": "markdown",
   "id": "9adc0614-b5f1-495e-8b36-4593c7f3f277",
   "metadata": {
    "slideshow": {
     "slide_type": "slide"
    }
   },
   "source": [
    "# Exercise 5.10\n",
    "\n",
    "Create two two-dimensional arrays.\n",
    "\n",
    "One of $0$s and one of $1$s.\n",
    "\n",
    "Both of shape $2 \\times 4$."
   ]
  },
  {
   "cell_type": "code",
   "execution_count": 20,
   "id": "f7db965e-c615-4e92-a8a5-7aacffadf229",
   "metadata": {
    "slideshow": {
     "slide_type": "subslide"
    }
   },
   "outputs": [],
   "source": [
    "my_shape = (2, 4)"
   ]
  },
  {
   "cell_type": "code",
   "execution_count": 21,
   "id": "adafa0be-0547-4d35-9e22-6c72d20f24d0",
   "metadata": {
    "slideshow": {
     "slide_type": "-"
    }
   },
   "outputs": [],
   "source": [
    "z1 = np.zeros(my_shape)"
   ]
  },
  {
   "cell_type": "code",
   "execution_count": 22,
   "id": "4d15dd8d-cc30-446a-a997-5ff27ccc0fae",
   "metadata": {
    "slideshow": {
     "slide_type": "-"
    }
   },
   "outputs": [
    {
     "data": {
      "text/plain": [
       "array([[0., 0., 0., 0.],\n",
       "       [0., 0., 0., 0.]])"
      ]
     },
     "execution_count": 22,
     "metadata": {},
     "output_type": "execute_result"
    }
   ],
   "source": [
    "z1"
   ]
  },
  {
   "cell_type": "code",
   "execution_count": 23,
   "id": "182d018d-eb14-4230-b708-72911c1864e3",
   "metadata": {
    "slideshow": {
     "slide_type": "-"
    }
   },
   "outputs": [],
   "source": [
    "o1 = np.ones(my_shape)"
   ]
  },
  {
   "cell_type": "code",
   "execution_count": 24,
   "id": "0048e333-33ea-4efc-9db0-4a1ef10943a9",
   "metadata": {
    "slideshow": {
     "slide_type": "-"
    }
   },
   "outputs": [
    {
     "data": {
      "text/plain": [
       "array([[1., 1., 1., 1.],\n",
       "       [1., 1., 1., 1.]])"
      ]
     },
     "execution_count": 24,
     "metadata": {},
     "output_type": "execute_result"
    }
   ],
   "source": [
    "o1"
   ]
  },
  {
   "cell_type": "markdown",
   "id": "0c9b88ea",
   "metadata": {
    "slideshow": {
     "slide_type": "slide"
    }
   },
   "source": [
    "# Exercise 5.11 \n",
    "\n",
    "Create an identity matrix with $4$ rows and columns."
   ]
  },
  {
   "cell_type": "code",
   "execution_count": 25,
   "id": "ce277d31-d058-4bde-a4ae-271808f5f9e5",
   "metadata": {
    "slideshow": {
     "slide_type": "subslide"
    }
   },
   "outputs": [
    {
     "data": {
      "text/plain": [
       "array([[1., 0., 0., 0.],\n",
       "       [0., 1., 0., 0.],\n",
       "       [0., 0., 1., 0.],\n",
       "       [0., 0., 0., 1.]])"
      ]
     },
     "execution_count": 25,
     "metadata": {},
     "output_type": "execute_result"
    }
   ],
   "source": [
    "np.identity(4)"
   ]
  },
  {
   "cell_type": "markdown",
   "id": "7c8cf854-a52d-4494-8134-bc8a8a7f1ab3",
   "metadata": {
    "slideshow": {
     "slide_type": "slide"
    }
   },
   "source": [
    "# Exercise 5.12\n",
    "\n",
    "Generate a vector of random integers of length $5$.\n",
    "\n",
    "Then print a slice that consists of $3$ elements, beginning with the second element.\n",
    "\n",
    "Then print a slice that excludes the first and last elements."
   ]
  },
  {
   "cell_type": "code",
   "execution_count": 26,
   "id": "ec06a2c0-ae4f-44c3-8f97-3e5c051b6e22",
   "metadata": {
    "slideshow": {
     "slide_type": "subslide"
    }
   },
   "outputs": [],
   "source": [
    "x12 = np.random.randn(5)"
   ]
  },
  {
   "cell_type": "code",
   "execution_count": 27,
   "id": "b580bfae-fa80-4d27-9c60-1c32399b7c49",
   "metadata": {
    "slideshow": {
     "slide_type": "-"
    }
   },
   "outputs": [
    {
     "data": {
      "text/plain": [
       "array([ 0.17130012, -0.19921398, -0.22593658,  2.22769341,  0.89403517])"
      ]
     },
     "execution_count": 27,
     "metadata": {},
     "output_type": "execute_result"
    }
   ],
   "source": [
    "x12"
   ]
  },
  {
   "cell_type": "code",
   "execution_count": 28,
   "id": "c173928d-be81-4ee5-8626-fb53ee4ecf6c",
   "metadata": {},
   "outputs": [
    {
     "data": {
      "text/plain": [
       "array([-0.19921398, -0.22593658,  2.22769341])"
      ]
     },
     "execution_count": 28,
     "metadata": {},
     "output_type": "execute_result"
    }
   ],
   "source": [
    "x12[1:4]"
   ]
  },
  {
   "cell_type": "code",
   "execution_count": 29,
   "id": "41471fd5-4e97-402c-bec5-53e4b43013e3",
   "metadata": {},
   "outputs": [
    {
     "data": {
      "text/plain": [
       "array([-0.19921398, -0.22593658,  2.22769341])"
      ]
     },
     "execution_count": 29,
     "metadata": {},
     "output_type": "execute_result"
    }
   ],
   "source": [
    "x12[1:-1]"
   ]
  },
  {
   "cell_type": "markdown",
   "id": "43631977",
   "metadata": {
    "slideshow": {
     "slide_type": "slide"
    }
   },
   "source": [
    "# Exercise 5.13\n",
    "\n",
    "From the last array you created, selet all elements $> 0.15$.\n",
    "\n",
    "What is it called when you filter an array in this manner?\n",
    "\n",
    "That is, using truth values in the indexer."
   ]
  },
  {
   "cell_type": "code",
   "execution_count": 30,
   "id": "66227891-6b00-467c-b4fa-f4338554757b",
   "metadata": {
    "slideshow": {
     "slide_type": "subslide"
    }
   },
   "outputs": [
    {
     "data": {
      "text/plain": [
       "array([0.17130012, 2.22769341, 0.89403517])"
      ]
     },
     "execution_count": 30,
     "metadata": {},
     "output_type": "execute_result"
    }
   ],
   "source": [
    "x12[x12 > 0.15]"
   ]
  },
  {
   "cell_type": "markdown",
   "id": "398f2f54-eeb7-4c80-9fac-cce1bc882012",
   "metadata": {
    "slideshow": {
     "slide_type": "subslide"
    }
   },
   "source": [
    "This is called 'boolean indexing'. \n",
    "\n",
    "Consider the boolean array:"
   ]
  },
  {
   "cell_type": "code",
   "execution_count": 31,
   "id": "bbc5fe45-89b6-40f9-97f6-1b30d63ffbc2",
   "metadata": {},
   "outputs": [],
   "source": [
    "bool_idx = x12 > .15"
   ]
  },
  {
   "cell_type": "code",
   "execution_count": 32,
   "id": "537419f2-3a61-49b9-aa5d-dd5ba55be23c",
   "metadata": {},
   "outputs": [
    {
     "data": {
      "text/plain": [
       "array([ True, False, False,  True,  True])"
      ]
     },
     "execution_count": 32,
     "metadata": {},
     "output_type": "execute_result"
    }
   ],
   "source": [
    "bool_idx"
   ]
  },
  {
   "cell_type": "markdown",
   "id": "413cdfcf-705c-4c4a-ae61-32ca519e63d1",
   "metadata": {},
   "source": [
    "And this is our original array:"
   ]
  },
  {
   "cell_type": "code",
   "execution_count": 33,
   "id": "26bf2bc9-36d0-47eb-96c3-0365c01420d8",
   "metadata": {},
   "outputs": [
    {
     "data": {
      "text/plain": [
       "array([ 0.17130012, -0.19921398, -0.22593658,  2.22769341,  0.89403517])"
      ]
     },
     "execution_count": 33,
     "metadata": {},
     "output_type": "execute_result"
    }
   ],
   "source": [
    "x12"
   ]
  },
  {
   "cell_type": "markdown",
   "id": "ad573eb5-fdd7-4cc3-b38f-7f569c0f7e82",
   "metadata": {},
   "source": [
    "So, boolean indexing is something like:"
   ]
  },
  {
   "cell_type": "code",
   "execution_count": 34,
   "id": "c8497ed0-49a2-4ec8-ab9b-f573450b6c4c",
   "metadata": {},
   "outputs": [
    {
     "data": {
      "text/plain": [
       "[0.17130012421273216, 2.2276934115387506, 0.8940351740640091]"
      ]
     },
     "execution_count": 34,
     "metadata": {},
     "output_type": "execute_result"
    }
   ],
   "source": [
    "[a for a, b in zip(x12, bool_idx) if b]"
   ]
  },
  {
   "cell_type": "markdown",
   "id": "c70cfd18-9bba-4dcd-a7a1-dfa947368a69",
   "metadata": {},
   "source": [
    "Or:"
   ]
  },
  {
   "cell_type": "code",
   "execution_count": 35,
   "id": "0fdbc18a-c39a-4b9e-959b-afb44eb6501a",
   "metadata": {},
   "outputs": [
    {
     "data": {
      "text/plain": [
       "[0.17130012421273216, 2.2276934115387506, 0.8940351740640091]"
      ]
     },
     "execution_count": 35,
     "metadata": {},
     "output_type": "execute_result"
    }
   ],
   "source": [
    "[x for x in x12 * bool_idx if x]"
   ]
  },
  {
   "cell_type": "markdown",
   "id": "24caf753",
   "metadata": {
    "slideshow": {
     "slide_type": "slide"
    }
   },
   "source": [
    "# Exercise 5.14\n",
    "\n",
    "Generate a 2D array of random integers with a shape of $3 \\times 3$.\n",
    "\n",
    "Then, select the all the rows but the first, and all the columns but the last."
   ]
  },
  {
   "cell_type": "code",
   "execution_count": 36,
   "id": "2ef71c3a-88df-4b46-8f3f-3b668da55197",
   "metadata": {
    "slideshow": {
     "slide_type": "subslide"
    }
   },
   "outputs": [],
   "source": [
    "x14 = np.random.randn(3,3)"
   ]
  },
  {
   "cell_type": "code",
   "execution_count": 37,
   "id": "b3a24bee-f4ea-4e73-811b-472ef015d813",
   "metadata": {
    "slideshow": {
     "slide_type": "-"
    }
   },
   "outputs": [
    {
     "data": {
      "text/plain": [
       "array([[ 1.60860821,  0.48033565,  1.21082097],\n",
       "       [-0.27256458,  0.5267972 ,  0.11687277],\n",
       "       [ 0.82614665, -0.35226373,  0.74684218]])"
      ]
     },
     "execution_count": 37,
     "metadata": {},
     "output_type": "execute_result"
    }
   ],
   "source": [
    "x14"
   ]
  },
  {
   "cell_type": "code",
   "execution_count": 38,
   "id": "dad28cd6-07e7-4f54-b897-424720882523",
   "metadata": {},
   "outputs": [
    {
     "data": {
      "text/plain": [
       "array([[-0.27256458,  0.5267972 ],\n",
       "       [ 0.82614665, -0.35226373]])"
      ]
     },
     "execution_count": 38,
     "metadata": {},
     "output_type": "execute_result"
    }
   ],
   "source": [
    "x14[1:, :2]"
   ]
  },
  {
   "cell_type": "markdown",
   "id": "dee58952-842f-495c-8f93-b6cc5ddcb1ff",
   "metadata": {
    "slideshow": {
     "slide_type": "slide"
    }
   },
   "source": [
    "# Exercise 5.15\n",
    "\n",
    "Write code to generate a new array based on the previous array and which sets all negative values to 0.\n",
    "\n",
    "The second array should be based on a copy of the first.\n",
    "\n",
    "Then print both arrays.  "
   ]
  },
  {
   "cell_type": "code",
   "execution_count": 39,
   "id": "37880d79-efcc-4a89-a9a2-cc8a0a82a89e",
   "metadata": {
    "slideshow": {
     "slide_type": "subslide"
    },
    "tags": []
   },
   "outputs": [],
   "source": [
    "x15 = x14.copy()\n",
    "x15[x15 < 0] = 0"
   ]
  },
  {
   "cell_type": "code",
   "execution_count": 40,
   "id": "35a39177-8fb1-4881-a07a-d10b44cb2128",
   "metadata": {
    "slideshow": {
     "slide_type": "-"
    },
    "tags": []
   },
   "outputs": [
    {
     "data": {
      "text/plain": [
       "array([[ 1.60860821,  0.48033565,  1.21082097],\n",
       "       [-0.27256458,  0.5267972 ,  0.11687277],\n",
       "       [ 0.82614665, -0.35226373,  0.74684218]])"
      ]
     },
     "execution_count": 40,
     "metadata": {},
     "output_type": "execute_result"
    }
   ],
   "source": [
    "x14"
   ]
  },
  {
   "cell_type": "code",
   "execution_count": 41,
   "id": "6412e428-5672-49f5-9b2e-0680d50be986",
   "metadata": {
    "slideshow": {
     "slide_type": "-"
    },
    "tags": []
   },
   "outputs": [
    {
     "data": {
      "text/plain": [
       "array([[1.60860821, 0.48033565, 1.21082097],\n",
       "       [0.        , 0.5267972 , 0.11687277],\n",
       "       [0.82614665, 0.        , 0.74684218]])"
      ]
     },
     "execution_count": 41,
     "metadata": {},
     "output_type": "execute_result"
    }
   ],
   "source": [
    "x15"
   ]
  },
  {
   "cell_type": "markdown",
   "id": "e0dd22e2-75bf-4c6e-bf00-f6480688294b",
   "metadata": {
    "slideshow": {
     "slide_type": "slide"
    }
   },
   "source": [
    "# Exercise 5.16\n",
    "\n",
    "Write a function called `roll_dice()` that returns a sorted 1D list of integers of length `n` for a die of `m` sides. \n",
    "\n",
    "* Each integer is from $1$ to $m$ inclusive.\n",
    "* Make the default value of `m` $6$.\n",
    "* Give the user the option to return the results in reverse sort order. Set the default value to `False`.\n",
    "* Return the results as a list.\n",
    "\n",
    "Then\n",
    "* Run it so that it rolls a $6$-sided die $10$ times. Print results with reverse sorting.\n",
    "* Run it so that it rolls a $12$-sided die $10$ times. Print results with no sorting."
   ]
  },
  {
   "cell_type": "code",
   "execution_count": 42,
   "id": "82eae5ef-1f83-4e96-a01a-a643726a18d0",
   "metadata": {
    "slideshow": {
     "slide_type": "subslide"
    }
   },
   "outputs": [],
   "source": [
    "def roll_dice(n, m=6, sort=False, reverse=False):\n",
    "    ''' \n",
    "    This function returns a sorted list of integers of length n. \n",
    "    Each integer is from 1 to 6 inclusive. \n",
    "    '''\n",
    "    x = np.random.randint(1, m, n)\n",
    "\n",
    "    if sort:\n",
    "        return sorted(x, reverse=reverse)\n",
    "    else:\n",
    "        return list(x)"
   ]
  },
  {
   "cell_type": "code",
   "execution_count": 44,
   "id": "d0da392d-f014-43dc-929d-7bc881855346",
   "metadata": {
    "slideshow": {
     "slide_type": "-"
    }
   },
   "outputs": [],
   "source": [
    "game1 = roll_dice(10, sort=True, reverse=True)"
   ]
  },
  {
   "cell_type": "code",
   "execution_count": 45,
   "id": "96aab9f5-d14f-43d9-8388-5d304836defd",
   "metadata": {
    "slideshow": {
     "slide_type": "-"
    }
   },
   "outputs": [
    {
     "data": {
      "text/plain": [
       "[5, 5, 5, 4, 4, 3, 3, 2, 1, 1]"
      ]
     },
     "execution_count": 45,
     "metadata": {},
     "output_type": "execute_result"
    }
   ],
   "source": [
    "game1"
   ]
  },
  {
   "cell_type": "code",
   "execution_count": 46,
   "id": "cd64f8d6-6696-4575-a349-4fd627ad908e",
   "metadata": {
    "slideshow": {
     "slide_type": "-"
    }
   },
   "outputs": [],
   "source": [
    "game2 = roll_dice(10, 12)"
   ]
  },
  {
   "cell_type": "code",
   "execution_count": 47,
   "id": "fa5526a3-e06a-452f-9a18-7a288402035c",
   "metadata": {
    "slideshow": {
     "slide_type": "-"
    }
   },
   "outputs": [
    {
     "data": {
      "text/plain": [
       "[10, 11, 2, 6, 8, 5, 8, 8, 2, 9]"
      ]
     },
     "execution_count": 47,
     "metadata": {},
     "output_type": "execute_result"
    }
   ],
   "source": [
    "game2"
   ]
  },
  {
   "cell_type": "markdown",
   "id": "090c2fa1-9c19-49b2-bc78-22f14e090d6c",
   "metadata": {
    "slideshow": {
     "slide_type": "slide"
    }
   },
   "source": [
    "# Exercise 5.17\n",
    "\n",
    "Make a plot showing an example play where where $m = 50$, $n = 8$, and sorting is turned off."
   ]
  },
  {
   "cell_type": "code",
   "execution_count": 48,
   "id": "03628574-42e0-441b-bf54-5cb6e88be031",
   "metadata": {
    "scrolled": true,
    "slideshow": {
     "slide_type": "subslide"
    }
   },
   "outputs": [],
   "source": [
    "from matplotlib.pyplot import plot"
   ]
  },
  {
   "cell_type": "code",
   "execution_count": 49,
   "id": "b55144ba-c8d4-44ec-928b-037770d67862",
   "metadata": {
    "scrolled": true,
    "slideshow": {
     "slide_type": "-"
    },
    "tags": []
   },
   "outputs": [
    {
     "data": {
      "image/png": "[encoded data removed]",
      "text/plain": [
       "<Figure size 432x288 with 1 Axes>"
      ]
     },
     "metadata": {
      "needs_background": "light"
     },
     "output_type": "display_data"
    }
   ],
   "source": [
    "plot(roll_dice(50, 8));"
   ]
  },
  {
   "cell_type": "markdown",
   "id": "8bf2c0ef-27e6-493f-be3c-51e2b0c04ba2",
   "metadata": {
    "slideshow": {
     "slide_type": "slide"
    }
   },
   "source": [
    "# Exercise 5.18\n",
    "\n",
    "Write a NumPy program to compute the eigenvalues and right eigenvectors of a given square array."
   ]
  },
  {
   "cell_type": "code",
   "execution_count": 50,
   "id": "4a50deb6-6708-4264-bba0-e0b7c9c72711",
   "metadata": {
    "slideshow": {
     "slide_type": "subslide"
    }
   },
   "outputs": [
    {
     "name": "stdout",
     "output_type": "stream",
     "text": [
      "Original matrix:\n",
      "a\n",
      " [[ 3 -2]\n",
      " [ 1  0]]\n",
      "Eigenvalues of the said matrix [2. 1.]\n",
      "Eigenvectors of the said matrix [[0.89442719 0.70710678]\n",
      " [0.4472136  0.70710678]]\n"
     ]
    }
   ],
   "source": [
    "import numpy as np\n",
    "m = np.mat(\"3 -2;1 0\")\n",
    "print(\"Original matrix:\")\n",
    "print(\"a\\n\", m)\n",
    "w, v = np.linalg.eig(m) \n",
    "print( \"Eigenvalues of the said matrix\",w)\n",
    "print( \"Eigenvectors of the said matrix\",v)"
   ]
  },
  {
   "cell_type": "markdown",
   "id": "73caed91-7f46-43ac-8786-2d25c93111da",
   "metadata": {
    "slideshow": {
     "slide_type": "slide"
    }
   },
   "source": [
    "# Exercise 5.19\n",
    "\n",
    "Write a NumPy program to compute the multiplication of two given matrixes, $p$ and $q$.\n",
    "\n",
    "So, create two 2D matrices by hand, each of shape $2 \\times 2$, and then apply the operation to them."
   ]
  },
  {
   "cell_type": "code",
   "execution_count": 51,
   "id": "b9fe771e-1a99-43a9-80b2-da1e93fe56e6",
   "metadata": {
    "slideshow": {
     "slide_type": "subslide"
    }
   },
   "outputs": [],
   "source": [
    "import numpy as np\n",
    "p = [[1, 0], [0, 1]]\n",
    "q = [[1, 2], [3, 4]]"
   ]
  },
  {
   "cell_type": "code",
   "execution_count": 52,
   "id": "368dc315-b6e0-4f17-b4f7-e59d83d778f9",
   "metadata": {
    "slideshow": {
     "slide_type": "-"
    }
   },
   "outputs": [
    {
     "name": "stdout",
     "output_type": "stream",
     "text": [
      "original matrix:\n",
      "[[1, 0], [0, 1]]\n",
      "[[1, 2], [3, 4]]\n"
     ]
    }
   ],
   "source": [
    "print(\"original matrix:\")\n",
    "print(p)\n",
    "print(q)"
   ]
  },
  {
   "cell_type": "code",
   "execution_count": 53,
   "id": "f7754f8f-b9ff-43c6-9f09-82bc04258344",
   "metadata": {
    "slideshow": {
     "slide_type": "-"
    }
   },
   "outputs": [
    {
     "name": "stdout",
     "output_type": "stream",
     "text": [
      "Result of the said matrix multiplication:\n",
      "[[1 2]\n",
      " [3 4]]\n"
     ]
    }
   ],
   "source": [
    "result1 = np.dot(p, q)\n",
    "print(\"Result of the said matrix multiplication:\")\n",
    "print(result1)"
   ]
  },
  {
   "cell_type": "code",
   "execution_count": 54,
   "id": "8c5c1197-38e3-4116-8b70-6b029c56b8c1",
   "metadata": {
    "slideshow": {
     "slide_type": "fragment"
    }
   },
   "outputs": [
    {
     "name": "stdout",
     "output_type": "stream",
     "text": [
      "[[1 2]\n",
      " [3 4]]\n"
     ]
    }
   ],
   "source": [
    "result2 = np.dot(q, p)\n",
    "print(result2)"
   ]
  },
  {
   "cell_type": "markdown",
   "id": "0801494e-cbd9-4e0e-b5dc-c24a257c35a1",
   "metadata": {
    "slideshow": {
     "slide_type": "slide"
    }
   },
   "source": [
    "# Exercise 5.20\n",
    "\n",
    "Write a NumPy program to calculate the difference between the maximum and the minimum values of a given array along the second axis. \n",
    "\n",
    "**Expected Output:**\n",
    "\n",
    "Original array:\n",
    "```\n",
    "[\n",
    "    [0, 1, 2, 3, 4, 5],\n",
    "    [6, 7, 8, 9, 10, 11]\n",
    "]\n",
    "```\n",
    "Difference between the maximum and the minimum values of the said array:\n",
    "```\n",
    "[5, 5]\n",
    "```\n"
   ]
  },
  {
   "cell_type": "code",
   "execution_count": 55,
   "id": "2546f61e-2d6a-4b5e-a874-1aa74dbce7fd",
   "metadata": {
    "slideshow": {
     "slide_type": "subslide"
    }
   },
   "outputs": [
    {
     "name": "stdout",
     "output_type": "stream",
     "text": [
      "\n",
      "Original array:\n",
      "[[ 0  1  2  3  4  5]\n",
      " [ 6  7  8  9 10 11]]\n"
     ]
    }
   ],
   "source": [
    "import numpy as np\n",
    "x = np.arange(12).reshape((2, 6))\n",
    "print(\"\\nOriginal array:\")\n",
    "print(x)"
   ]
  },
  {
   "cell_type": "code",
   "execution_count": 56,
   "id": "78e3b71f-2b84-4ec0-8389-a2856d0e7ecb",
   "metadata": {
    "slideshow": {
     "slide_type": "-"
    }
   },
   "outputs": [
    {
     "data": {
      "text/plain": [
       "True"
      ]
     },
     "execution_count": 56,
     "metadata": {},
     "output_type": "execute_result"
    }
   ],
   "source": [
    "r1 = np.ptp(x, 1)\n",
    "r2 = np.amax(x, 1) - np.amin(x, 1)\n",
    "np.allclose(r1, r2) "
   ]
  },
  {
   "cell_type": "code",
   "execution_count": 57,
   "id": "99cb6ac5-c1e8-4d21-adcc-9f5edb76fb04",
   "metadata": {
    "slideshow": {
     "slide_type": "-"
    }
   },
   "outputs": [
    {
     "name": "stdout",
     "output_type": "stream",
     "text": [
      "\n",
      "Difference between the maximum and the minimum values of the said array:\n",
      "[5 5]\n"
     ]
    }
   ],
   "source": [
    "print(\"\\nDifference between the maximum and the minimum values of the said array:\")\n",
    "print(r1)"
   ]
  },
  {
   "cell_type": "markdown",
   "id": "814aa0ed-b63b-4072-99e0-116561d70805",
   "metadata": {
    "slideshow": {
     "slide_type": "skip"
    }
   },
   "source": [
    "# Exercise 5.21\n",
    "\n",
    "Write a NumPy program to sort an given array by the $n$th column.  \n",
    "Original array:\n",
    "```\n",
    "[\n",
    "    [1, 5, 0],\n",
    "    [3, 2, 5],\n",
    "    [8, 7, 6]\n",
    "]\n",
    "```\n",
    "Sort the said array by the nth column: \n",
    "```\n",
    "[\n",
    "    [3, 2, 5],\n",
    "    [1, 5, 0],\n",
    "    [8, 7, 6]\n",
    "]\n",
    "```"
   ]
  },
  {
   "cell_type": "code",
   "execution_count": 58,
   "id": "342917d3-fe23-4729-8c43-9d3cd9af8ef4",
   "metadata": {
    "scrolled": true,
    "slideshow": {
     "slide_type": "skip"
    }
   },
   "outputs": [
    {
     "name": "stdout",
     "output_type": "stream",
     "text": [
      "Original array:\n",
      "\n",
      "[[8 7 6]\n",
      " [6 5 9]\n",
      " [5 8 4]]\n"
     ]
    }
   ],
   "source": [
    "import numpy as np\n",
    "print(\"Original array:\\n\")\n",
    "nums = np.random.randint(0,10,(3,3))\n",
    "print(nums)"
   ]
  },
  {
   "cell_type": "code",
   "execution_count": 59,
   "id": "eaf911a0-516a-454f-8a8d-23879ae7ed27",
   "metadata": {
    "slideshow": {
     "slide_type": "skip"
    }
   },
   "outputs": [
    {
     "name": "stdout",
     "output_type": "stream",
     "text": [
      "\n",
      "Sort the said array by the nth column: \n",
      "[[6 5 9]\n",
      " [8 7 6]\n",
      " [5 8 4]]\n"
     ]
    }
   ],
   "source": [
    "print(\"\\nSort the said array by the nth column: \")\n",
    "print(nums[nums[:,1].argsort()])"
   ]
  },
  {
   "cell_type": "markdown",
   "id": "4f3c8269-c2c0-4fcd-a521-ef1c81cec691",
   "metadata": {
    "slideshow": {
     "slide_type": "slide"
    }
   },
   "source": [
    "# Exercise 5.22\n",
    "\n",
    "Write a NumPy program to find a matrix or vector norm."
   ]
  },
  {
   "cell_type": "code",
   "execution_count": 60,
   "id": "247ce742-5be9-4855-9cbe-294f6d76d7b8",
   "metadata": {
    "slideshow": {
     "slide_type": "subslide"
    }
   },
   "outputs": [
    {
     "name": "stdout",
     "output_type": "stream",
     "text": [
      "Vector norm:\n",
      "9.539392014169456\n",
      "Matrix norm:\n",
      "5.477225575051661\n"
     ]
    }
   ],
   "source": [
    "import numpy as np\n",
    "v = np.arange(7)\n",
    "result = np.linalg.norm(v)\n",
    "print(\"Vector norm:\")\n",
    "print(result)\n",
    "m = np.matrix('1, 2; 3, 4') \n",
    "result1 = np.linalg.norm(m)\n",
    "print(\"Matrix norm:\")\n",
    "print(result1)"
   ]
  },
  {
   "cell_type": "markdown",
   "id": "6ee4cfe0-a222-408c-84d9-70d853a0d0f5",
   "metadata": {
    "slideshow": {
     "slide_type": "slide"
    }
   },
   "source": [
    "# Exercise 5.23\n",
    "\n",
    "Write a NumPy program to calculate the QR decomposition of a given matrix."
   ]
  },
  {
   "cell_type": "code",
   "execution_count": 61,
   "id": "ca11b834-8313-41ff-86de-3a3ad9ebe095",
   "metadata": {
    "slideshow": {
     "slide_type": "subslide"
    }
   },
   "outputs": [
    {
     "name": "stdout",
     "output_type": "stream",
     "text": [
      "Original matrix:\n",
      "[[1 2]\n",
      " [3 4]]\n",
      "Decomposition of the said matrix:\n",
      "(array([[-0.31622777, -0.9486833 ],\n",
      "       [-0.9486833 ,  0.31622777]]), array([[-3.16227766, -4.42718872],\n",
      "       [ 0.        , -0.63245553]]))\n"
     ]
    }
   ],
   "source": [
    "import numpy as np\n",
    "m = np.array([[1,2],[3,4]])\n",
    "print(\"Original matrix:\")\n",
    "print(m)\n",
    "result =  np.linalg.qr(m)\n",
    "print(\"Decomposition of the said matrix:\")\n",
    "print(result)"
   ]
  },
  {
   "cell_type": "code",
   "execution_count": null,
   "id": "4390c5e8-836e-46e4-8287-868c40e56a42",
   "metadata": {},
   "outputs": [],
   "source": []
  }
 ],
 "metadata": {
  "celltoolbar": "Slideshow",
  "kernelspec": {
   "display_name": "Python 3 (ipykernel)",
   "language": "python",
   "name": "python3"
  },
  "language_info": {
   "codemirror_mode": {
    "name": "ipython",
    "version": 3
   },
   "file_extension": ".py",
   "mimetype": "text/x-python",
   "name": "python",
   "nbconvert_exporter": "python",
   "pygments_lexer": "ipython3",
   "version": "3.8.3"
  },
  "latex_envs": {
   "LaTeX_envs_menu_present": true,
   "autoclose": false,
   "autocomplete": true,
   "bibliofile": "biblio.bib",
   "cite_by": "apalike",
   "current_citInitial": 1,
   "eqLabelWithNumbers": true,
   "eqNumInitial": 1,
   "hotkeys": {
    "equation": "Ctrl-E",
    "itemize": "Ctrl-I"
   },
   "labels_anchors": false,
   "latex_user_defs": false,
   "report_style_numbering": false,
   "user_envs_cfg": false
  },
  "toc": {
   "base_numbering": 1,
   "nav_menu": {},
   "number_sections": false,
   "sideBar": true,
   "skip_h1_title": false,
   "title_cell": "Table of Contents",
   "title_sidebar": "Contents",
   "toc_cell": false,
   "toc_position": {},
   "toc_section_display": true,
   "toc_window_display": false
  },
  "varInspector": {
   "cols": {
    "lenName": 16,
    "lenType": 16,
    "lenVar": 40
   },
   "kernels_config": {
    "python": {
     "delete_cmd_postfix": "",
     "delete_cmd_prefix": "del ",
     "library": "var_list.py",
     "varRefreshCmd": "print(var_dic_list())"
    },
    "r": {
     "delete_cmd_postfix": ") ",
     "delete_cmd_prefix": "rm(",
     "library": "var_list.r",
     "varRefreshCmd": "cat(var_dic_list()) "
    }
   },
   "types_to_exclude": [
    "module",
    "function",
    "builtin_function_or_method",
    "instance",
    "_Feature"
   ],
   "window_display": false
  },
  "widgets": {
   "application/vnd.jupyter.widget-state+json": {
    "state": {},
    "version_major": 2,
    "version_minor": 0
   }
  }
 },
 "nbformat": 4,
 "nbformat_minor": 5
}
