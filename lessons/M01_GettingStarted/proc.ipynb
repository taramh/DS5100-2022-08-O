{
 "cells": [
  {
   "cell_type": "code",
   "execution_count": 27,
   "id": "531ada01-a08c-4454-bd39-600ceebb86e3",
   "metadata": {},
   "outputs": [
    {
     "name": "stdout",
     "output_type": "stream",
     "text": [
      "01 jz2fe Hi my name is Jim. I haven't watched movies in a long time.\n",
      "--------------------------------------------------------------------------------\n",
      "02 rca2t Steel Magnolias\n",
      "--------------------------------------------------------------------------------\n",
      "03 mma4gp I don't remember the last film that I watched and enjoyed\n",
      "--------------------------------------------------------------------------------\n",
      "04 sk9km Roadrunner\n",
      "--------------------------------------------------------------------------------\n",
      "05 rlm4cr <h1>What is the most recent fil you watched and enjoyed?</h1>\n",
      "Ans: Top Gun: Maverick\n",
      "--------------------------------------------------------------------------------\n",
      "06 tsl2b I watched, enjoyed, and loved the medieval-set satire and musical \n",
      "\"Galavant\".\n",
      "--------------------------------------------------------------------------------\n",
      "07 rca2t Steel Magnolias\n",
      "--------------------------------------------------------------------------------\n",
      "08 de2br Knives Out\n",
      "--------------------------------------------------------------------------------\n",
      "09 sfl7ck Pride (2014) is fantastic!\n",
      "--------------------------------------------------------------------------------\n",
      "10 nyc2xu Tamil language film-Vikram\n",
      "--------------------------------------------------------------------------------\n",
      "11 stm5ne Mission Impossible\n",
      "--------------------------------------------------------------------------------\n",
      "12 ajk4yq Hello my name is Alex. The last movie I watched was Dune.\n",
      "--------------------------------------------------------------------------------\n",
      "13 bm3pk Memory\n",
      "--------------------------------------------------------------------------------\n",
      "14 vfq4xe Top Gun.\n",
      "--------------------------------------------------------------------------------\n",
      "15 kyd3zj Game of Thrones Series: House of Dragons\n",
      "--------------------------------------------------------------------------------\n",
      "16 kzr3fb Everything, Everywhere, All at Once! Great movie.\n",
      "--------------------------------------------------------------------------------\n",
      "17 xjb6yb Captain America: The First Avenger\n",
      "--------------------------------------------------------------------------------\n",
      "18 mw3ef The most recent film I watched was Se7en by David Fincher.\n",
      "--------------------------------------------------------------------------------\n",
      "19 krr4de Wedding Crashers\n",
      "--------------------------------------------------------------------------------\n",
      "20 mcs9ff Die Hard\n",
      "--------------------------------------------------------------------------------\n",
      "21 rcc7u I saw \"The Spy Who Dumped Me\" on Danish TV while in Copenhagen recently. I wouldn't have chosen it myself, but it was entertaining.\n",
      "--------------------------------------------------------------------------------\n",
      "22 dcc7qe Senior Year\n",
      "--------------------------------------------------------------------------------\n",
      "23 syc6vs I've been watching Vikings on Netflix.\n",
      "--------------------------------------------------------------------------------\n",
      "24 yep8eq Life moves pretty fast if you dont slow down and look around once in awhile you could miss it.\n",
      "--------------------------------------------------------------------------------\n",
      "25 ajb5d Encanto\n",
      "--------------------------------------------------------------------------------\n",
      "26 SirishKDesai 3 idiots\n",
      "--------------------------------------------------------------------------------\n"
     ]
    }
   ],
   "source": [
    "import glob\n",
    "\n",
    "files = glob.glob(\"./hello/*_*.txt\")\n",
    "n = 0\n",
    "for file in files:\n",
    "    sid = file.split(\"/\")[2].split(\"_\")[0]\n",
    "    n += 1\n",
    "    line = open(file, 'r').read().strip()\n",
    "    print(str(n).zfill(2), sid, line)\n",
    "    print(\"-\" * 80)"
   ]
  },
  {
   "cell_type": "code",
   "execution_count": null,
   "id": "9ce88750-d827-4221-9ea8-3565676beec2",
   "metadata": {},
   "outputs": [],
   "source": []
  },
  {
   "cell_type": "code",
   "execution_count": null,
   "id": "f345d60b-7653-438d-aa75-3d97454e23a9",
   "metadata": {},
   "outputs": [],
   "source": []
  }
 ],
 "metadata": {
  "kernelspec": {
   "display_name": "eta",
   "language": "python",
   "name": "eta"
  },
  "language_info": {
   "codemirror_mode": {
    "name": "ipython",
    "version": 3
   },
   "file_extension": ".py",
   "mimetype": "text/x-python",
   "name": "python",
   "nbconvert_exporter": "python",
   "pygments_lexer": "ipython3",
   "version": "3.8.3"
  },
  "widgets": {
   "application/vnd.jupyter.widget-state+json": {
    "state": {},
    "version_major": 2,
    "version_minor": 0
   }
  }
 },
 "nbformat": 4,
 "nbformat_minor": 5
}
