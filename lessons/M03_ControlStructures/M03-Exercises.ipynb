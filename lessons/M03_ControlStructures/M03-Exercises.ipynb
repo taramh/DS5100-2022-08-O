{
 "cells": [
  {
   "cell_type": "markdown",
   "id": "b1e47c6d",
   "metadata": {
    "slideshow": {
     "slide_type": "slide"
    }
   },
   "source": [
    "# M03 Exercises\n",
    "\n",
    "DS 5100 | Fall 2022"
   ]
  },
  {
   "cell_type": "markdown",
   "id": "ca1c94d9",
   "metadata": {
    "slideshow": {
     "slide_type": "slide"
    },
    "tags": []
   },
   "source": [
    "# Example 3.1\n",
    "\n",
    "What prints in the example below if `val = 5`? \n",
    "\n",
    "```python\n",
    "val = -2\n",
    "\n",
    "if -10 < val < -5:\n",
    "    print('bucket 1')\n",
    "elif -5 <= val < -2:\n",
    "    print('bucket 2')\n",
    "elif val == -2:\n",
    "    print('bucket 3')\n",
    "```\n",
    "\n",
    "How would you fix the problem?"
   ]
  },
  {
   "cell_type": "code",
   "execution_count": 15,
   "id": "cf4da541",
   "metadata": {
    "slideshow": {
     "slide_type": "subslide"
    }
   },
   "outputs": [],
   "source": [
    "val = 5\n",
    "\n",
    "if -10 < val < -5:\n",
    "    print('bucket 1')\n",
    "elif -5 <= val < -2:\n",
    "    print('bucket   2')\n",
    "elif val == -2:\n",
    "    print('bucket 3')"
   ]
  },
  {
   "cell_type": "code",
   "execution_count": 13,
   "id": "fdce041e-4d5c-47f8-9073-8a73772c8ede",
   "metadata": {
    "slideshow": {
     "slide_type": "subslide"
    }
   },
   "outputs": [
    {
     "name": "stdout",
     "output_type": "stream",
     "text": [
      "bucket 4\n"
     ]
    }
   ],
   "source": [
    "val = 5\n",
    "\n",
    "if -10 < val < -5:\n",
    "    print('bucket 1')\n",
    "elif -5 <= val < -2:\n",
    "    print('bucket 2')\n",
    "elif val == -2:\n",
    "    print('bucket 3')\n",
    "else:\n",
    "    print('bucket 4')"
   ]
  },
  {
   "cell_type": "markdown",
   "id": "b69bc94b-abbc-4c90-8e37-71db11c6ec16",
   "metadata": {
    "slideshow": {
     "slide_type": "slide"
    }
   },
   "source": [
    "# Exercise 3.2\n",
    "\n",
    "Write code that does the following:\n",
    "- Defines a list of integers `xx = [-2, 8, 0, 5, 6]`\n",
    "- Computes the maximum, storing in `max_val`\n",
    "- Loops over each value in the list\n",
    "- If the value is less than the maximum, print the value\n",
    "- Otherwise, print the string 'max_val'"
   ]
  },
  {
   "cell_type": "markdown",
   "id": "48f0113b-bf46-40ef-b5d7-50077c7af38b",
   "metadata": {
    "slideshow": {
     "slide_type": "subslide"
    }
   },
   "source": [
    "## Method 1"
   ]
  },
  {
   "cell_type": "code",
   "execution_count": 3,
   "id": "77a96e85",
   "metadata": {
    "slideshow": {
     "slide_type": "-"
    },
    "tags": []
   },
   "outputs": [],
   "source": [
    "xx = [-2, 8, 0, 5, 6]"
   ]
  },
  {
   "cell_type": "code",
   "execution_count": 4,
   "id": "bb745079-ff83-4d86-bafe-fa97d1884de5",
   "metadata": {
    "slideshow": {
     "slide_type": "-"
    },
    "tags": []
   },
   "outputs": [],
   "source": [
    "max_val = max(xx)"
   ]
  },
  {
   "cell_type": "code",
   "execution_count": 5,
   "id": "a0ba94f1-2c20-40c7-b841-765466c9a7e1",
   "metadata": {
    "slideshow": {
     "slide_type": "-"
    },
    "tags": []
   },
   "outputs": [
    {
     "name": "stdout",
     "output_type": "stream",
     "text": [
      "-2\n",
      "max_val\n",
      "0\n",
      "5\n",
      "6\n"
     ]
    }
   ],
   "source": [
    "for x in xx:\n",
    "    if x < max_val:\n",
    "        print(x)\n",
    "    else:\n",
    "        print('max_val')"
   ]
  },
  {
   "cell_type": "markdown",
   "id": "303ee1f8-235a-4eef-b4c5-cdc1e003e0b4",
   "metadata": {
    "slideshow": {
     "slide_type": "subslide"
    }
   },
   "source": [
    "## Method 2"
   ]
  },
  {
   "cell_type": "code",
   "execution_count": 6,
   "id": "43d39c13-9280-4ab5-80cd-5fb8c9c862f9",
   "metadata": {
    "slideshow": {
     "slide_type": "-"
    },
    "tags": []
   },
   "outputs": [
    {
     "name": "stdout",
     "output_type": "stream",
     "text": [
      "-2\n",
      "max_val\n",
      "0\n",
      "5\n",
      "6\n"
     ]
    }
   ],
   "source": [
    "for x in xx:\n",
    "    print(x) if x < max_val else print('max_val')"
   ]
  },
  {
   "cell_type": "markdown",
   "id": "bd428128-2a7a-4147-9a42-625e9d168e3a",
   "metadata": {
    "slideshow": {
     "slide_type": "subslide"
    }
   },
   "source": [
    "## Method 3 \n",
    "\n",
    "Jumping ahead to next week ..."
   ]
  },
  {
   "cell_type": "code",
   "execution_count": 8,
   "id": "ec24fcae-fb2d-418e-89f2-42fe5ea81671",
   "metadata": {
    "slideshow": {
     "slide_type": "-"
    }
   },
   "outputs": [
    {
     "name": "stdout",
     "output_type": "stream",
     "text": [
      "-2\n",
      "max_val\n",
      "0\n",
      "5\n",
      "6\n"
     ]
    }
   ],
   "source": [
    "_ = [(lambda x: print(x) if x < max_val else print('max_val'))(x) for x in xx]"
   ]
  },
  {
   "cell_type": "markdown",
   "id": "7d2891b3-fa38-4e1f-9fbf-017d18477333",
   "metadata": {
    "slideshow": {
     "slide_type": "slide"
    },
    "tags": []
   },
   "source": [
    "# Example 3.3\n",
    "\n",
    "Write code that does the following:\n",
    "\n",
    "- Sets a variable `it` to 0\n",
    "- Sets a variable `max_iter` to 100\n",
    "- While `it` < `max_iter`, does the following:\n",
    "  - If `it` = 0 or `it` is divisible by 10, print `it`. Hint: use modulo operator `%`\n",
    "- Increase `it` by 1\n",
    "- When `it` >= `max_iter`, the program should quit"
   ]
  },
  {
   "cell_type": "code",
   "execution_count": 24,
   "id": "743d4037-f2a5-45f0-b9d3-eba48b97e5f3",
   "metadata": {
    "slideshow": {
     "slide_type": "subslide"
    },
    "tags": []
   },
   "outputs": [
    {
     "name": "stdout",
     "output_type": "stream",
     "text": [
      "0\n",
      "10\n",
      "20\n",
      "30\n",
      "40\n",
      "50\n",
      "60\n",
      "70\n",
      "80\n",
      "90\n"
     ]
    }
   ],
   "source": [
    "it = 0\n",
    "max_iter = 100\n",
    "while it < max_iter:\n",
    "    if (it == 0) or (it % 10 == 0):\n",
    "        print(it)\n",
    "    it += 1"
   ]
  },
  {
   "cell_type": "markdown",
   "id": "b8c09457-fb4a-4665-a4cc-3421c8300573",
   "metadata": {
    "slideshow": {
     "slide_type": "slide"
    }
   },
   "source": [
    "# Exercise 3.4\n",
    "\n",
    "Create a list of strings, where each string contains a mix of uppercase and lowercase letters.  \n",
    "\n",
    "For example, a list of four proper names.\n",
    "\n",
    "Write a `for` loop to iterate over the strings and:\n",
    "- lowercase the string\n",
    "- print the string\n",
    "\n",
    "hint: Use the string method `.lower()`."
   ]
  },
  {
   "cell_type": "code",
   "execution_count": 17,
   "id": "e241f860-0742-4ac1-9802-a5e3adfd52df",
   "metadata": {
    "slideshow": {
     "slide_type": "subslide"
    },
    "tags": []
   },
   "outputs": [],
   "source": [
    "names = ['John', 'Paul', 'George', 'Ringo']"
   ]
  },
  {
   "cell_type": "code",
   "execution_count": 18,
   "id": "8600615a-413b-43b7-ab3f-153fa2fa6826",
   "metadata": {
    "slideshow": {
     "slide_type": "-"
    },
    "tags": []
   },
   "outputs": [
    {
     "name": "stdout",
     "output_type": "stream",
     "text": [
      "john\n",
      "paul\n",
      "george\n",
      "ringo\n"
     ]
    }
   ],
   "source": [
    "for name in names:\n",
    "    print(name.lower())"
   ]
  },
  {
   "cell_type": "code",
   "execution_count": 28,
   "id": "202225b2-c2ab-4a2a-ad69-375623cdd221",
   "metadata": {
    "slideshow": {
     "slide_type": "fragment"
    }
   },
   "outputs": [
    {
     "name": "stdout",
     "output_type": "stream",
     "text": [
      "john\n",
      "paul\n",
      "george\n",
      "ringo\n"
     ]
    }
   ],
   "source": [
    "_ = [print(x.lower()) for x in names]"
   ]
  },
  {
   "cell_type": "markdown",
   "id": "ed5ed5d9-059b-447a-9cf0-2d86a7089ca5",
   "metadata": {
    "slideshow": {
     "slide_type": "slide"
    }
   },
   "source": [
    "# Exercise 3.5 \n",
    "\n",
    "Using the list you made from the previous exercise, use `iter()` and `next()` to iterate over the list, printing each string.  \n",
    "\n",
    "The strings don't need to be lowercased."
   ]
  },
  {
   "cell_type": "code",
   "execution_count": 32,
   "id": "ea635aa9-a80a-4582-8d98-4e1570c1d930",
   "metadata": {
    "scrolled": true,
    "slideshow": {
     "slide_type": "subslide"
    },
    "tags": []
   },
   "outputs": [
    {
     "name": "stdout",
     "output_type": "stream",
     "text": [
      "John\n",
      "Paul\n",
      "George\n",
      "Ringo\n"
     ]
    }
   ],
   "source": [
    "beatles = iter(names)\n",
    "print(next(beatles))\n",
    "print(next(beatles))\n",
    "print(next(beatles))\n",
    "print(next(beatles))"
   ]
  },
  {
   "cell_type": "code",
   "execution_count": 49,
   "id": "d4a99763-8564-410e-bdd0-2f91063f9313",
   "metadata": {
    "slideshow": {
     "slide_type": "fragment"
    }
   },
   "outputs": [
    {
     "name": "stdout",
     "output_type": "stream",
     "text": [
      "John\n",
      "Paul\n",
      "George\n",
      "Ringo\n"
     ]
    }
   ],
   "source": [
    "beatles = iter(names)\n",
    "_ = [print(next(beatles)) for i in range(len(names))]"
   ]
  },
  {
   "cell_type": "code",
   "execution_count": 50,
   "id": "809c44a6-b76a-45cb-a900-869c5141bb68",
   "metadata": {
    "slideshow": {
     "slide_type": "fragment"
    }
   },
   "outputs": [
    {
     "name": "stdout",
     "output_type": "stream",
     "text": [
      "John\n",
      "Paul\n",
      "George\n",
      "Ringo\n"
     ]
    }
   ],
   "source": [
    "_ = [print(name) for name in iter(names)]"
   ]
  },
  {
   "cell_type": "markdown",
   "id": "44c6907c-52aa-483c-8a83-763ebba909da",
   "metadata": {
    "slideshow": {
     "slide_type": "slide"
    }
   },
   "source": [
    "# Exercise 3.6\n",
    "\n",
    "Create a dictionary. \n",
    "\n",
    "Use a `for` loop with `items()` to print each key-value pair."
   ]
  },
  {
   "cell_type": "code",
   "execution_count": 78,
   "id": "be363679-e16a-486f-9516-a1475313c13e",
   "metadata": {
    "slideshow": {
     "slide_type": "subslide"
    },
    "tags": []
   },
   "outputs": [
    {
     "name": "stdout",
     "output_type": "stream",
     "text": [
      "Santa Barbara 93103\n",
      "Charlottesville 22903\n"
     ]
    }
   ],
   "source": [
    "city_zip = {'Santa Barbara': 93103, 'Charlottesville': 22903}\n",
    "\n",
    "for cit, zi in city_zip.items():\n",
    "    print(cit, zi)"
   ]
  },
  {
   "cell_type": "code",
   "execution_count": 81,
   "id": "266559c9-17d9-418d-99e8-7b26146afe2f",
   "metadata": {
    "slideshow": {
     "slide_type": "fragment"
    },
    "tags": []
   },
   "outputs": [
    {
     "name": "stdout",
     "output_type": "stream",
     "text": [
      "Santa Barbara 93103\n",
      "Charlottesville 22903\n"
     ]
    }
   ],
   "source": [
    "_ = [print(cit, zi) for cit, zi in city_zip.items()]"
   ]
  },
  {
   "cell_type": "code",
   "execution_count": 84,
   "id": "191c3aa4-b1b5-426f-897a-52020ced5de9",
   "metadata": {
    "slideshow": {
     "slide_type": "fragment"
    },
    "tags": []
   },
   "outputs": [
    {
     "name": "stdout",
     "output_type": "stream",
     "text": [
      "Santa Barbara 93103\n",
      "Charlottesville 22903\n"
     ]
    }
   ],
   "source": [
    "print(\"\\n\".join([f\"{cit} {zi}\" for cit, zi in city_zip.items()]))"
   ]
  },
  {
   "cell_type": "markdown",
   "id": "178d0b36-8fd2-452f-8f92-dbb0a1a4c240",
   "metadata": {
    "slideshow": {
     "slide_type": "slide"
    },
    "tags": []
   },
   "source": [
    "# Exercise 3.7\n",
    "\n",
    "Using the dictionary from the previous exercise, use a `for` loop with `keys()` to print each key-value pair.  \n",
    "\n",
    "To extract the values, use the key to index into the dict."
   ]
  },
  {
   "cell_type": "code",
   "execution_count": 85,
   "id": "0221659b-93d1-49ba-8978-92665ca41063",
   "metadata": {
    "slideshow": {
     "slide_type": "subslide"
    },
    "tags": []
   },
   "outputs": [
    {
     "name": "stdout",
     "output_type": "stream",
     "text": [
      "Santa Barbara 93103\n",
      "Charlottesville 22903\n"
     ]
    }
   ],
   "source": [
    "city_zip = {'Santa Barbara':93103, 'Charlottesville':22903}\n",
    "\n",
    "for cit in city_zip.keys():\n",
    "    print(cit, city_zip[cit])"
   ]
  },
  {
   "cell_type": "markdown",
   "id": "fab6a462-ac12-4a84-903f-7315d7a0eb1c",
   "metadata": {
    "slideshow": {
     "slide_type": "slide"
    }
   },
   "source": [
    "# Exercise 3.8\n",
    "\n",
    "Write a list comprehension that takes a list of numeric values \\\n",
    "and returns a list of their cubes."
   ]
  },
  {
   "cell_type": "code",
   "execution_count": 86,
   "id": "f98291df-a8b8-4a20-a72d-335e445db535",
   "metadata": {
    "slideshow": {
     "slide_type": "subslide"
    },
    "tags": []
   },
   "outputs": [
    {
     "data": {
      "text/plain": [
       "[1, 8, 27, 64]"
      ]
     },
     "execution_count": 86,
     "metadata": {},
     "output_type": "execute_result"
    }
   ],
   "source": [
    "vals = [1, 2, 3, 4]\n",
    "cubes = [val**3 for val in vals]\n",
    "cubes "
   ]
  },
  {
   "cell_type": "markdown",
   "id": "6b0a9ace-3c77-4e05-87f6-c014489d2cd2",
   "metadata": {
    "slideshow": {
     "slide_type": "slide"
    }
   },
   "source": [
    "# Exercise 3.9\n",
    "\n",
    "Create a list of seven (7) strings that includes some numbers and some non-numbers. The numbers should be quoted, like `'12'`.\n",
    "\n",
    "Write a list comprehension that takes the list and returns a list of number strings.  \n",
    "\n",
    "Hint: The function `isdigit()` will help. "
   ]
  },
  {
   "cell_type": "code",
   "execution_count": 35,
   "id": "d48b1e04-eb33-430a-8bee-a886c9c71c1a",
   "metadata": {
    "slideshow": {
     "slide_type": "subslide"
    },
    "tags": []
   },
   "outputs": [],
   "source": [
    "strs = ['99', 'red balloons', 'floating', 'in the', 'summer sky.', '16', 'candles']\n",
    "strs_w_num = len([st for st in strs if st.isdigit()])"
   ]
  },
  {
   "cell_type": "code",
   "execution_count": 36,
   "id": "be7fb9a2-6f3f-4ec9-85ed-edd7a7d9af9e",
   "metadata": {
    "slideshow": {
     "slide_type": "-"
    },
    "tags": []
   },
   "outputs": [
    {
     "data": {
      "text/plain": [
       "2"
      ]
     },
     "execution_count": 36,
     "metadata": {},
     "output_type": "execute_result"
    }
   ],
   "source": [
    "strs_w_num"
   ]
  },
  {
   "cell_type": "markdown",
   "id": "4ae19b31-88f3-4c04-861b-8b3e3082df17",
   "metadata": {
    "slideshow": {
     "slide_type": "subslide"
    }
   },
   "source": [
    "# Exercise 3.10\n",
    "\n",
    "Given the dict `grid`, use a dict comprehension to retain only key-value pairs where the key contains 'max':\n",
    "\n",
    "```python\n",
    "grid = {\n",
    "    'max_depth': [5,10], \n",
    "    'ntrees': [100,200,300],\n",
    "    'regularization': ['l1','l2'],\n",
    "    'max_iter': [10,20]\n",
    "}\n",
    "```"
   ]
  },
  {
   "cell_type": "code",
   "execution_count": 31,
   "id": "01cb0e07",
   "metadata": {
    "slideshow": {
     "slide_type": "subslide"
    },
    "tags": []
   },
   "outputs": [],
   "source": [
    "grid_max = {key:grid[key] for key in grid.keys() if 'max' in key}"
   ]
  },
  {
   "cell_type": "code",
   "execution_count": 28,
   "id": "df89c4bc-8177-4d5c-989e-092175dc2911",
   "metadata": {
    "slideshow": {
     "slide_type": "-"
    },
    "tags": []
   },
   "outputs": [
    {
     "data": {
      "text/plain": [
       "{'max_depth': [5, 10], 'max_iter': [10, 20]}"
      ]
     },
     "execution_count": 28,
     "metadata": {},
     "output_type": "execute_result"
    }
   ],
   "source": [
    "grid_max"
   ]
  },
  {
   "cell_type": "markdown",
   "id": "036059ab-74ee-47be-ace1-4a7c1df9a2c3",
   "metadata": {
    "slideshow": {
     "slide_type": "slide"
    }
   },
   "source": [
    "# Exercise 3.11\n",
    "\n",
    "Given the dict `letter_to_idx` which maps some letters to index values,  \n",
    "use a dict comprehension to create a reversed dict, `idx_to_letter` \n",
    "mapping the index values to the letters.\n",
    "\n",
    "```python\n",
    "letter_to_idx = {\n",
    "    'a': 0, \n",
    "    'b': 1, \n",
    "    'c': 2\n",
    "}\n",
    "```"
   ]
  },
  {
   "cell_type": "code",
   "execution_count": 34,
   "id": "ea7253bc",
   "metadata": {
    "slideshow": {
     "slide_type": "subslide"
    }
   },
   "outputs": [],
   "source": [
    "letter_to_idx = {\n",
    "    'a': 0, \n",
    "    'b': 1, \n",
    "    'c': 2\n",
    "}"
   ]
  },
  {
   "cell_type": "code",
   "execution_count": 51,
   "id": "80dd53bb",
   "metadata": {
    "jupyter": {
     "source_hidden": true
    },
    "scrolled": true,
    "slideshow": {
     "slide_type": "-"
    }
   },
   "outputs": [],
   "source": [
    "idx_to_letter = {letter_to_idx[k]:k for k in letter_to_idx.keys()}  "
   ]
  },
  {
   "cell_type": "code",
   "execution_count": 36,
   "id": "c66c5c5e-462e-406c-9591-70da543ed3cd",
   "metadata": {
    "jupyter": {
     "source_hidden": true
    },
    "scrolled": true,
    "slideshow": {
     "slide_type": "-"
    }
   },
   "outputs": [
    {
     "data": {
      "text/plain": [
       "{0: 'a', 1: 'b', 2: 'c'}"
      ]
     },
     "execution_count": 36,
     "metadata": {},
     "output_type": "execute_result"
    }
   ],
   "source": [
    "idx_to_letter"
   ]
  },
  {
   "cell_type": "markdown",
   "id": "1bb881e5",
   "metadata": {
    "slideshow": {
     "slide_type": "subslide"
    }
   },
   "source": [
    "Or try this:"
   ]
  },
  {
   "cell_type": "code",
   "execution_count": 43,
   "id": "2487f56a",
   "metadata": {},
   "outputs": [],
   "source": [
    "idx_to_letter2 = {v:k for k, v in letter_to_idx.items()}"
   ]
  },
  {
   "cell_type": "code",
   "execution_count": 44,
   "id": "4cb06a7e",
   "metadata": {},
   "outputs": [
    {
     "data": {
      "text/plain": [
       "{0: 'a', 1: 'b', 2: 'c'}"
      ]
     },
     "execution_count": 44,
     "metadata": {},
     "output_type": "execute_result"
    }
   ],
   "source": [
    "idx_to_letter2"
   ]
  },
  {
   "cell_type": "code",
   "execution_count": null,
   "id": "5e07e6c6",
   "metadata": {},
   "outputs": [],
   "source": []
  }
 ],
 "metadata": {
  "celltoolbar": "Slideshow",
  "kernelspec": {
   "display_name": "Python 3 (ipykernel)",
   "language": "python",
   "name": "python3"
  },
  "language_info": {
   "codemirror_mode": {
    "name": "ipython",
    "version": 3
   },
   "file_extension": ".py",
   "mimetype": "text/x-python",
   "name": "python",
   "nbconvert_exporter": "python",
   "pygments_lexer": "ipython3",
   "version": "3.8.3"
  },
  "latex_envs": {
   "LaTeX_envs_menu_present": true,
   "autoclose": false,
   "autocomplete": true,
   "bibliofile": "biblio.bib",
   "cite_by": "apalike",
   "current_citInitial": 1,
   "eqLabelWithNumbers": true,
   "eqNumInitial": 1,
   "hotkeys": {
    "equation": "Ctrl-E",
    "itemize": "Ctrl-I"
   },
   "labels_anchors": false,
   "latex_user_defs": false,
   "report_style_numbering": false,
   "user_envs_cfg": false
  },
  "toc": {
   "base_numbering": 1,
   "nav_menu": {},
   "number_sections": false,
   "sideBar": true,
   "skip_h1_title": false,
   "title_cell": "Table of Contents",
   "title_sidebar": "Contents",
   "toc_cell": false,
   "toc_position": {},
   "toc_section_display": true,
   "toc_window_display": false
  },
  "varInspector": {
   "cols": {
    "lenName": 16,
    "lenType": 16,
    "lenVar": 40
   },
   "kernels_config": {
    "python": {
     "delete_cmd_postfix": "",
     "delete_cmd_prefix": "del ",
     "library": "var_list.py",
     "varRefreshCmd": "print(var_dic_list())"
    },
    "r": {
     "delete_cmd_postfix": ") ",
     "delete_cmd_prefix": "rm(",
     "library": "var_list.r",
     "varRefreshCmd": "cat(var_dic_list()) "
    }
   },
   "types_to_exclude": [
    "module",
    "function",
    "builtin_function_or_method",
    "instance",
    "_Feature"
   ],
   "window_display": false
  },
  "widgets": {
   "application/vnd.jupyter.widget-state+json": {
    "state": {},
    "version_major": 2,
    "version_minor": 0
   }
  }
 },
 "nbformat": 4,
 "nbformat_minor": 5
}
